{
 "cells": [
  {
   "cell_type": "code",
   "execution_count": 34,
   "id": "a0b1ad5c",
   "metadata": {},
   "outputs": [],
   "source": [
    "import pandas as pd\n",
    "import seaborn as sns\n",
    "import numpy as  np\n",
    "import matplotlib.pyplot as plt\n",
    "from sklearn.model_selection import train_test_split"
   ]
  },
  {
   "cell_type": "code",
   "execution_count": 9,
   "id": "7b264baf",
   "metadata": {},
   "outputs": [],
   "source": [
    "data = pd.read_csv('CAR DETAILS FROM CAR DEKHO.csv')"
   ]
  },
  {
   "cell_type": "code",
   "execution_count": 10,
   "id": "4508a075",
   "metadata": {},
   "outputs": [
    {
     "data": {
      "text/html": [
       "<div>\n",
       "<style scoped>\n",
       "    .dataframe tbody tr th:only-of-type {\n",
       "        vertical-align: middle;\n",
       "    }\n",
       "\n",
       "    .dataframe tbody tr th {\n",
       "        vertical-align: top;\n",
       "    }\n",
       "\n",
       "    .dataframe thead th {\n",
       "        text-align: right;\n",
       "    }\n",
       "</style>\n",
       "<table border=\"1\" class=\"dataframe\">\n",
       "  <thead>\n",
       "    <tr style=\"text-align: right;\">\n",
       "      <th></th>\n",
       "      <th>name</th>\n",
       "      <th>year</th>\n",
       "      <th>selling_price</th>\n",
       "      <th>km_driven</th>\n",
       "      <th>fuel</th>\n",
       "      <th>seller_type</th>\n",
       "      <th>transmission</th>\n",
       "      <th>owner</th>\n",
       "    </tr>\n",
       "  </thead>\n",
       "  <tbody>\n",
       "    <tr>\n",
       "      <th>0</th>\n",
       "      <td>Maruti 800 AC</td>\n",
       "      <td>2007</td>\n",
       "      <td>60000</td>\n",
       "      <td>70000</td>\n",
       "      <td>Petrol</td>\n",
       "      <td>Individual</td>\n",
       "      <td>Manual</td>\n",
       "      <td>First Owner</td>\n",
       "    </tr>\n",
       "    <tr>\n",
       "      <th>1</th>\n",
       "      <td>Maruti Wagon R LXI Minor</td>\n",
       "      <td>2007</td>\n",
       "      <td>135000</td>\n",
       "      <td>50000</td>\n",
       "      <td>Petrol</td>\n",
       "      <td>Individual</td>\n",
       "      <td>Manual</td>\n",
       "      <td>First Owner</td>\n",
       "    </tr>\n",
       "    <tr>\n",
       "      <th>2</th>\n",
       "      <td>Hyundai Verna 1.6 SX</td>\n",
       "      <td>2012</td>\n",
       "      <td>600000</td>\n",
       "      <td>100000</td>\n",
       "      <td>Diesel</td>\n",
       "      <td>Individual</td>\n",
       "      <td>Manual</td>\n",
       "      <td>First Owner</td>\n",
       "    </tr>\n",
       "    <tr>\n",
       "      <th>3</th>\n",
       "      <td>Datsun RediGO T Option</td>\n",
       "      <td>2017</td>\n",
       "      <td>250000</td>\n",
       "      <td>46000</td>\n",
       "      <td>Petrol</td>\n",
       "      <td>Individual</td>\n",
       "      <td>Manual</td>\n",
       "      <td>First Owner</td>\n",
       "    </tr>\n",
       "    <tr>\n",
       "      <th>4</th>\n",
       "      <td>Honda Amaze VX i-DTEC</td>\n",
       "      <td>2014</td>\n",
       "      <td>450000</td>\n",
       "      <td>141000</td>\n",
       "      <td>Diesel</td>\n",
       "      <td>Individual</td>\n",
       "      <td>Manual</td>\n",
       "      <td>Second Owner</td>\n",
       "    </tr>\n",
       "  </tbody>\n",
       "</table>\n",
       "</div>"
      ],
      "text/plain": [
       "                       name  year  selling_price  km_driven    fuel  \\\n",
       "0             Maruti 800 AC  2007          60000      70000  Petrol   \n",
       "1  Maruti Wagon R LXI Minor  2007         135000      50000  Petrol   \n",
       "2      Hyundai Verna 1.6 SX  2012         600000     100000  Diesel   \n",
       "3    Datsun RediGO T Option  2017         250000      46000  Petrol   \n",
       "4     Honda Amaze VX i-DTEC  2014         450000     141000  Diesel   \n",
       "\n",
       "  seller_type transmission         owner  \n",
       "0  Individual       Manual   First Owner  \n",
       "1  Individual       Manual   First Owner  \n",
       "2  Individual       Manual   First Owner  \n",
       "3  Individual       Manual   First Owner  \n",
       "4  Individual       Manual  Second Owner  "
      ]
     },
     "execution_count": 10,
     "metadata": {},
     "output_type": "execute_result"
    }
   ],
   "source": [
    "data.head()"
   ]
  },
  {
   "cell_type": "code",
   "execution_count": 11,
   "id": "3c049094",
   "metadata": {},
   "outputs": [
    {
     "name": "stdout",
     "output_type": "stream",
     "text": [
      "<class 'pandas.core.frame.DataFrame'>\n",
      "RangeIndex: 4340 entries, 0 to 4339\n",
      "Data columns (total 8 columns):\n",
      " #   Column         Non-Null Count  Dtype \n",
      "---  ------         --------------  ----- \n",
      " 0   name           4340 non-null   object\n",
      " 1   year           4340 non-null   int64 \n",
      " 2   selling_price  4340 non-null   int64 \n",
      " 3   km_driven      4340 non-null   int64 \n",
      " 4   fuel           4340 non-null   object\n",
      " 5   seller_type    4340 non-null   object\n",
      " 6   transmission   4340 non-null   object\n",
      " 7   owner          4340 non-null   object\n",
      "dtypes: int64(3), object(5)\n",
      "memory usage: 271.4+ KB\n"
     ]
    }
   ],
   "source": [
    "data.info()"
   ]
  },
  {
   "cell_type": "code",
   "execution_count": 12,
   "id": "3c18d9d6",
   "metadata": {},
   "outputs": [
    {
     "data": {
      "text/plain": [
       "(4340, 8)"
      ]
     },
     "execution_count": 12,
     "metadata": {},
     "output_type": "execute_result"
    }
   ],
   "source": [
    "data.shape"
   ]
  },
  {
   "cell_type": "code",
   "execution_count": 13,
   "id": "810d61dc",
   "metadata": {},
   "outputs": [
    {
     "data": {
      "text/html": [
       "<div>\n",
       "<style scoped>\n",
       "    .dataframe tbody tr th:only-of-type {\n",
       "        vertical-align: middle;\n",
       "    }\n",
       "\n",
       "    .dataframe tbody tr th {\n",
       "        vertical-align: top;\n",
       "    }\n",
       "\n",
       "    .dataframe thead th {\n",
       "        text-align: right;\n",
       "    }\n",
       "</style>\n",
       "<table border=\"1\" class=\"dataframe\">\n",
       "  <thead>\n",
       "    <tr style=\"text-align: right;\">\n",
       "      <th></th>\n",
       "      <th>year</th>\n",
       "      <th>selling_price</th>\n",
       "      <th>km_driven</th>\n",
       "    </tr>\n",
       "  </thead>\n",
       "  <tbody>\n",
       "    <tr>\n",
       "      <th>count</th>\n",
       "      <td>4340.000000</td>\n",
       "      <td>4.340000e+03</td>\n",
       "      <td>4340.000000</td>\n",
       "    </tr>\n",
       "    <tr>\n",
       "      <th>mean</th>\n",
       "      <td>2013.090783</td>\n",
       "      <td>5.041273e+05</td>\n",
       "      <td>66215.777419</td>\n",
       "    </tr>\n",
       "    <tr>\n",
       "      <th>std</th>\n",
       "      <td>4.215344</td>\n",
       "      <td>5.785487e+05</td>\n",
       "      <td>46644.102194</td>\n",
       "    </tr>\n",
       "    <tr>\n",
       "      <th>min</th>\n",
       "      <td>1992.000000</td>\n",
       "      <td>2.000000e+04</td>\n",
       "      <td>1.000000</td>\n",
       "    </tr>\n",
       "    <tr>\n",
       "      <th>25%</th>\n",
       "      <td>2011.000000</td>\n",
       "      <td>2.087498e+05</td>\n",
       "      <td>35000.000000</td>\n",
       "    </tr>\n",
       "    <tr>\n",
       "      <th>50%</th>\n",
       "      <td>2014.000000</td>\n",
       "      <td>3.500000e+05</td>\n",
       "      <td>60000.000000</td>\n",
       "    </tr>\n",
       "    <tr>\n",
       "      <th>75%</th>\n",
       "      <td>2016.000000</td>\n",
       "      <td>6.000000e+05</td>\n",
       "      <td>90000.000000</td>\n",
       "    </tr>\n",
       "    <tr>\n",
       "      <th>max</th>\n",
       "      <td>2020.000000</td>\n",
       "      <td>8.900000e+06</td>\n",
       "      <td>806599.000000</td>\n",
       "    </tr>\n",
       "  </tbody>\n",
       "</table>\n",
       "</div>"
      ],
      "text/plain": [
       "              year  selling_price      km_driven\n",
       "count  4340.000000   4.340000e+03    4340.000000\n",
       "mean   2013.090783   5.041273e+05   66215.777419\n",
       "std       4.215344   5.785487e+05   46644.102194\n",
       "min    1992.000000   2.000000e+04       1.000000\n",
       "25%    2011.000000   2.087498e+05   35000.000000\n",
       "50%    2014.000000   3.500000e+05   60000.000000\n",
       "75%    2016.000000   6.000000e+05   90000.000000\n",
       "max    2020.000000   8.900000e+06  806599.000000"
      ]
     },
     "execution_count": 13,
     "metadata": {},
     "output_type": "execute_result"
    }
   ],
   "source": [
    "data.describe()"
   ]
  },
  {
   "cell_type": "code",
   "execution_count": 14,
   "id": "dae7684d",
   "metadata": {},
   "outputs": [
    {
     "data": {
      "text/plain": [
       "name             0\n",
       "year             0\n",
       "selling_price    0\n",
       "km_driven        0\n",
       "fuel             0\n",
       "seller_type      0\n",
       "transmission     0\n",
       "owner            0\n",
       "dtype: int64"
      ]
     },
     "execution_count": 14,
     "metadata": {},
     "output_type": "execute_result"
    }
   ],
   "source": [
    "data.isnull().sum()"
   ]
  },
  {
   "cell_type": "code",
   "execution_count": 15,
   "id": "e706193b",
   "metadata": {},
   "outputs": [
    {
     "name": "stdout",
     "output_type": "stream",
     "text": [
      "['Petrol' 'Diesel' 'CNG' 'LPG' 'Electric']\n",
      "['Manual' 'Automatic']\n",
      "[2007 2012 2017 2014 2016 2015 2018 2019 2013 2011 2010 2009 2006 1996\n",
      " 2005 2008 2004 1998 2003 2002 2020 2000 1999 2001 1995 1997 1992]\n"
     ]
    }
   ],
   "source": [
    "print(data['fuel'].unique())\n",
    "print(data['transmission'].unique())\n",
    "print(data['year'].unique())"
   ]
  },
  {
   "cell_type": "code",
   "execution_count": 16,
   "id": "f2675c47",
   "metadata": {},
   "outputs": [],
   "source": [
    "# Removing  coloumn\n",
    "data_required = data.drop(\"name\" , axis= 1)"
   ]
  },
  {
   "cell_type": "code",
   "execution_count": 17,
   "id": "f194e1e5",
   "metadata": {},
   "outputs": [],
   "source": [
    "##Data Preprocessing\n",
    "\n"
   ]
  },
  {
   "cell_type": "code",
   "execution_count": 18,
   "id": "fb389385",
   "metadata": {},
   "outputs": [
    {
     "data": {
      "text/html": [
       "<div>\n",
       "<style scoped>\n",
       "    .dataframe tbody tr th:only-of-type {\n",
       "        vertical-align: middle;\n",
       "    }\n",
       "\n",
       "    .dataframe tbody tr th {\n",
       "        vertical-align: top;\n",
       "    }\n",
       "\n",
       "    .dataframe thead th {\n",
       "        text-align: right;\n",
       "    }\n",
       "</style>\n",
       "<table border=\"1\" class=\"dataframe\">\n",
       "  <thead>\n",
       "    <tr style=\"text-align: right;\">\n",
       "      <th></th>\n",
       "      <th>name</th>\n",
       "      <th>year</th>\n",
       "      <th>selling_price</th>\n",
       "      <th>km_driven</th>\n",
       "      <th>fuel</th>\n",
       "      <th>seller_type</th>\n",
       "      <th>transmission</th>\n",
       "      <th>owner</th>\n",
       "    </tr>\n",
       "  </thead>\n",
       "  <tbody>\n",
       "    <tr>\n",
       "      <th>0</th>\n",
       "      <td>Maruti 800 AC</td>\n",
       "      <td>2007</td>\n",
       "      <td>60000</td>\n",
       "      <td>70000</td>\n",
       "      <td>Petrol</td>\n",
       "      <td>Individual</td>\n",
       "      <td>Manual</td>\n",
       "      <td>First Owner</td>\n",
       "    </tr>\n",
       "    <tr>\n",
       "      <th>1</th>\n",
       "      <td>Maruti Wagon R LXI Minor</td>\n",
       "      <td>2007</td>\n",
       "      <td>135000</td>\n",
       "      <td>50000</td>\n",
       "      <td>Petrol</td>\n",
       "      <td>Individual</td>\n",
       "      <td>Manual</td>\n",
       "      <td>First Owner</td>\n",
       "    </tr>\n",
       "    <tr>\n",
       "      <th>2</th>\n",
       "      <td>Hyundai Verna 1.6 SX</td>\n",
       "      <td>2012</td>\n",
       "      <td>600000</td>\n",
       "      <td>100000</td>\n",
       "      <td>Diesel</td>\n",
       "      <td>Individual</td>\n",
       "      <td>Manual</td>\n",
       "      <td>First Owner</td>\n",
       "    </tr>\n",
       "    <tr>\n",
       "      <th>3</th>\n",
       "      <td>Datsun RediGO T Option</td>\n",
       "      <td>2017</td>\n",
       "      <td>250000</td>\n",
       "      <td>46000</td>\n",
       "      <td>Petrol</td>\n",
       "      <td>Individual</td>\n",
       "      <td>Manual</td>\n",
       "      <td>First Owner</td>\n",
       "    </tr>\n",
       "    <tr>\n",
       "      <th>4</th>\n",
       "      <td>Honda Amaze VX i-DTEC</td>\n",
       "      <td>2014</td>\n",
       "      <td>450000</td>\n",
       "      <td>141000</td>\n",
       "      <td>Diesel</td>\n",
       "      <td>Individual</td>\n",
       "      <td>Manual</td>\n",
       "      <td>Second Owner</td>\n",
       "    </tr>\n",
       "  </tbody>\n",
       "</table>\n",
       "</div>"
      ],
      "text/plain": [
       "                       name  year  selling_price  km_driven    fuel  \\\n",
       "0             Maruti 800 AC  2007          60000      70000  Petrol   \n",
       "1  Maruti Wagon R LXI Minor  2007         135000      50000  Petrol   \n",
       "2      Hyundai Verna 1.6 SX  2012         600000     100000  Diesel   \n",
       "3    Datsun RediGO T Option  2017         250000      46000  Petrol   \n",
       "4     Honda Amaze VX i-DTEC  2014         450000     141000  Diesel   \n",
       "\n",
       "  seller_type transmission         owner  \n",
       "0  Individual       Manual   First Owner  \n",
       "1  Individual       Manual   First Owner  \n",
       "2  Individual       Manual   First Owner  \n",
       "3  Individual       Manual   First Owner  \n",
       "4  Individual       Manual  Second Owner  "
      ]
     },
     "execution_count": 18,
     "metadata": {},
     "output_type": "execute_result"
    }
   ],
   "source": [
    "data.head()"
   ]
  },
  {
   "cell_type": "code",
   "execution_count": 19,
   "id": "0ec9bcb8",
   "metadata": {},
   "outputs": [
    {
     "data": {
      "text/html": [
       "<div>\n",
       "<style scoped>\n",
       "    .dataframe tbody tr th:only-of-type {\n",
       "        vertical-align: middle;\n",
       "    }\n",
       "\n",
       "    .dataframe tbody tr th {\n",
       "        vertical-align: top;\n",
       "    }\n",
       "\n",
       "    .dataframe thead th {\n",
       "        text-align: right;\n",
       "    }\n",
       "</style>\n",
       "<table border=\"1\" class=\"dataframe\">\n",
       "  <thead>\n",
       "    <tr style=\"text-align: right;\">\n",
       "      <th></th>\n",
       "      <th>year</th>\n",
       "      <th>selling_price</th>\n",
       "      <th>km_driven</th>\n",
       "      <th>fuel</th>\n",
       "      <th>seller_type</th>\n",
       "      <th>transmission</th>\n",
       "      <th>owner</th>\n",
       "      <th>Present_Year</th>\n",
       "    </tr>\n",
       "  </thead>\n",
       "  <tbody>\n",
       "    <tr>\n",
       "      <th>0</th>\n",
       "      <td>2007</td>\n",
       "      <td>60000</td>\n",
       "      <td>70000</td>\n",
       "      <td>Petrol</td>\n",
       "      <td>Individual</td>\n",
       "      <td>Manual</td>\n",
       "      <td>First Owner</td>\n",
       "      <td>2021</td>\n",
       "    </tr>\n",
       "    <tr>\n",
       "      <th>1</th>\n",
       "      <td>2007</td>\n",
       "      <td>135000</td>\n",
       "      <td>50000</td>\n",
       "      <td>Petrol</td>\n",
       "      <td>Individual</td>\n",
       "      <td>Manual</td>\n",
       "      <td>First Owner</td>\n",
       "      <td>2021</td>\n",
       "    </tr>\n",
       "    <tr>\n",
       "      <th>2</th>\n",
       "      <td>2012</td>\n",
       "      <td>600000</td>\n",
       "      <td>100000</td>\n",
       "      <td>Diesel</td>\n",
       "      <td>Individual</td>\n",
       "      <td>Manual</td>\n",
       "      <td>First Owner</td>\n",
       "      <td>2021</td>\n",
       "    </tr>\n",
       "    <tr>\n",
       "      <th>3</th>\n",
       "      <td>2017</td>\n",
       "      <td>250000</td>\n",
       "      <td>46000</td>\n",
       "      <td>Petrol</td>\n",
       "      <td>Individual</td>\n",
       "      <td>Manual</td>\n",
       "      <td>First Owner</td>\n",
       "      <td>2021</td>\n",
       "    </tr>\n",
       "    <tr>\n",
       "      <th>4</th>\n",
       "      <td>2014</td>\n",
       "      <td>450000</td>\n",
       "      <td>141000</td>\n",
       "      <td>Diesel</td>\n",
       "      <td>Individual</td>\n",
       "      <td>Manual</td>\n",
       "      <td>Second Owner</td>\n",
       "      <td>2021</td>\n",
       "    </tr>\n",
       "  </tbody>\n",
       "</table>\n",
       "</div>"
      ],
      "text/plain": [
       "   year  selling_price  km_driven    fuel seller_type transmission  \\\n",
       "0  2007          60000      70000  Petrol  Individual       Manual   \n",
       "1  2007         135000      50000  Petrol  Individual       Manual   \n",
       "2  2012         600000     100000  Diesel  Individual       Manual   \n",
       "3  2017         250000      46000  Petrol  Individual       Manual   \n",
       "4  2014         450000     141000  Diesel  Individual       Manual   \n",
       "\n",
       "          owner  Present_Year  \n",
       "0   First Owner          2021  \n",
       "1   First Owner          2021  \n",
       "2   First Owner          2021  \n",
       "3   First Owner          2021  \n",
       "4  Second Owner          2021  "
      ]
     },
     "execution_count": 19,
     "metadata": {},
     "output_type": "execute_result"
    }
   ],
   "source": [
    "#Age of  the car\n",
    "data_required['Present_Year']=2021\n",
    "data_required.head()"
   ]
  },
  {
   "cell_type": "code",
   "execution_count": 20,
   "id": "556dd846",
   "metadata": {},
   "outputs": [
    {
     "data": {
      "text/html": [
       "<div>\n",
       "<style scoped>\n",
       "    .dataframe tbody tr th:only-of-type {\n",
       "        vertical-align: middle;\n",
       "    }\n",
       "\n",
       "    .dataframe tbody tr th {\n",
       "        vertical-align: top;\n",
       "    }\n",
       "\n",
       "    .dataframe thead th {\n",
       "        text-align: right;\n",
       "    }\n",
       "</style>\n",
       "<table border=\"1\" class=\"dataframe\">\n",
       "  <thead>\n",
       "    <tr style=\"text-align: right;\">\n",
       "      <th></th>\n",
       "      <th>year</th>\n",
       "      <th>selling_price</th>\n",
       "      <th>km_driven</th>\n",
       "      <th>fuel</th>\n",
       "      <th>seller_type</th>\n",
       "      <th>transmission</th>\n",
       "      <th>owner</th>\n",
       "      <th>Present_Year</th>\n",
       "      <th>Age_Year</th>\n",
       "    </tr>\n",
       "  </thead>\n",
       "  <tbody>\n",
       "    <tr>\n",
       "      <th>0</th>\n",
       "      <td>2007</td>\n",
       "      <td>60000</td>\n",
       "      <td>70000</td>\n",
       "      <td>Petrol</td>\n",
       "      <td>Individual</td>\n",
       "      <td>Manual</td>\n",
       "      <td>First Owner</td>\n",
       "      <td>2021</td>\n",
       "      <td>14</td>\n",
       "    </tr>\n",
       "    <tr>\n",
       "      <th>1</th>\n",
       "      <td>2007</td>\n",
       "      <td>135000</td>\n",
       "      <td>50000</td>\n",
       "      <td>Petrol</td>\n",
       "      <td>Individual</td>\n",
       "      <td>Manual</td>\n",
       "      <td>First Owner</td>\n",
       "      <td>2021</td>\n",
       "      <td>14</td>\n",
       "    </tr>\n",
       "    <tr>\n",
       "      <th>2</th>\n",
       "      <td>2012</td>\n",
       "      <td>600000</td>\n",
       "      <td>100000</td>\n",
       "      <td>Diesel</td>\n",
       "      <td>Individual</td>\n",
       "      <td>Manual</td>\n",
       "      <td>First Owner</td>\n",
       "      <td>2021</td>\n",
       "      <td>9</td>\n",
       "    </tr>\n",
       "    <tr>\n",
       "      <th>3</th>\n",
       "      <td>2017</td>\n",
       "      <td>250000</td>\n",
       "      <td>46000</td>\n",
       "      <td>Petrol</td>\n",
       "      <td>Individual</td>\n",
       "      <td>Manual</td>\n",
       "      <td>First Owner</td>\n",
       "      <td>2021</td>\n",
       "      <td>4</td>\n",
       "    </tr>\n",
       "    <tr>\n",
       "      <th>4</th>\n",
       "      <td>2014</td>\n",
       "      <td>450000</td>\n",
       "      <td>141000</td>\n",
       "      <td>Diesel</td>\n",
       "      <td>Individual</td>\n",
       "      <td>Manual</td>\n",
       "      <td>Second Owner</td>\n",
       "      <td>2021</td>\n",
       "      <td>7</td>\n",
       "    </tr>\n",
       "  </tbody>\n",
       "</table>\n",
       "</div>"
      ],
      "text/plain": [
       "   year  selling_price  km_driven    fuel seller_type transmission  \\\n",
       "0  2007          60000      70000  Petrol  Individual       Manual   \n",
       "1  2007         135000      50000  Petrol  Individual       Manual   \n",
       "2  2012         600000     100000  Diesel  Individual       Manual   \n",
       "3  2017         250000      46000  Petrol  Individual       Manual   \n",
       "4  2014         450000     141000  Diesel  Individual       Manual   \n",
       "\n",
       "          owner  Present_Year  Age_Year  \n",
       "0   First Owner          2021        14  \n",
       "1   First Owner          2021        14  \n",
       "2   First Owner          2021         9  \n",
       "3   First Owner          2021         4  \n",
       "4  Second Owner          2021         7  "
      ]
     },
     "execution_count": 20,
     "metadata": {},
     "output_type": "execute_result"
    }
   ],
   "source": [
    "data_required['Age_Year'] = data_required['Present_Year'] - data_required['year']\n",
    "data_required.head()                                          \n",
    "                                          "
   ]
  },
  {
   "cell_type": "code",
   "execution_count": 21,
   "id": "aa46d23e",
   "metadata": {},
   "outputs": [],
   "source": [
    "data_required.drop(['year', 'Present_Year'], axis =1 , inplace = True)"
   ]
  },
  {
   "cell_type": "code",
   "execution_count": 22,
   "id": "902fd66f",
   "metadata": {},
   "outputs": [
    {
     "data": {
      "text/html": [
       "<div>\n",
       "<style scoped>\n",
       "    .dataframe tbody tr th:only-of-type {\n",
       "        vertical-align: middle;\n",
       "    }\n",
       "\n",
       "    .dataframe tbody tr th {\n",
       "        vertical-align: top;\n",
       "    }\n",
       "\n",
       "    .dataframe thead th {\n",
       "        text-align: right;\n",
       "    }\n",
       "</style>\n",
       "<table border=\"1\" class=\"dataframe\">\n",
       "  <thead>\n",
       "    <tr style=\"text-align: right;\">\n",
       "      <th></th>\n",
       "      <th>selling_price</th>\n",
       "      <th>km_driven</th>\n",
       "      <th>fuel</th>\n",
       "      <th>seller_type</th>\n",
       "      <th>transmission</th>\n",
       "      <th>owner</th>\n",
       "      <th>Age_Year</th>\n",
       "    </tr>\n",
       "  </thead>\n",
       "  <tbody>\n",
       "    <tr>\n",
       "      <th>0</th>\n",
       "      <td>60000</td>\n",
       "      <td>70000</td>\n",
       "      <td>Petrol</td>\n",
       "      <td>Individual</td>\n",
       "      <td>Manual</td>\n",
       "      <td>First Owner</td>\n",
       "      <td>14</td>\n",
       "    </tr>\n",
       "    <tr>\n",
       "      <th>1</th>\n",
       "      <td>135000</td>\n",
       "      <td>50000</td>\n",
       "      <td>Petrol</td>\n",
       "      <td>Individual</td>\n",
       "      <td>Manual</td>\n",
       "      <td>First Owner</td>\n",
       "      <td>14</td>\n",
       "    </tr>\n",
       "    <tr>\n",
       "      <th>2</th>\n",
       "      <td>600000</td>\n",
       "      <td>100000</td>\n",
       "      <td>Diesel</td>\n",
       "      <td>Individual</td>\n",
       "      <td>Manual</td>\n",
       "      <td>First Owner</td>\n",
       "      <td>9</td>\n",
       "    </tr>\n",
       "    <tr>\n",
       "      <th>3</th>\n",
       "      <td>250000</td>\n",
       "      <td>46000</td>\n",
       "      <td>Petrol</td>\n",
       "      <td>Individual</td>\n",
       "      <td>Manual</td>\n",
       "      <td>First Owner</td>\n",
       "      <td>4</td>\n",
       "    </tr>\n",
       "    <tr>\n",
       "      <th>4</th>\n",
       "      <td>450000</td>\n",
       "      <td>141000</td>\n",
       "      <td>Diesel</td>\n",
       "      <td>Individual</td>\n",
       "      <td>Manual</td>\n",
       "      <td>Second Owner</td>\n",
       "      <td>7</td>\n",
       "    </tr>\n",
       "  </tbody>\n",
       "</table>\n",
       "</div>"
      ],
      "text/plain": [
       "   selling_price  km_driven    fuel seller_type transmission         owner  \\\n",
       "0          60000      70000  Petrol  Individual       Manual   First Owner   \n",
       "1         135000      50000  Petrol  Individual       Manual   First Owner   \n",
       "2         600000     100000  Diesel  Individual       Manual   First Owner   \n",
       "3         250000      46000  Petrol  Individual       Manual   First Owner   \n",
       "4         450000     141000  Diesel  Individual       Manual  Second Owner   \n",
       "\n",
       "   Age_Year  \n",
       "0        14  \n",
       "1        14  \n",
       "2         9  \n",
       "3         4  \n",
       "4         7  "
      ]
     },
     "execution_count": 22,
     "metadata": {},
     "output_type": "execute_result"
    }
   ],
   "source": [
    "data_required.head()"
   ]
  },
  {
   "cell_type": "code",
   "execution_count": 23,
   "id": "bf553efa",
   "metadata": {},
   "outputs": [
    {
     "data": {
      "text/html": [
       "<div>\n",
       "<style scoped>\n",
       "    .dataframe tbody tr th:only-of-type {\n",
       "        vertical-align: middle;\n",
       "    }\n",
       "\n",
       "    .dataframe tbody tr th {\n",
       "        vertical-align: top;\n",
       "    }\n",
       "\n",
       "    .dataframe thead th {\n",
       "        text-align: right;\n",
       "    }\n",
       "</style>\n",
       "<table border=\"1\" class=\"dataframe\">\n",
       "  <thead>\n",
       "    <tr style=\"text-align: right;\">\n",
       "      <th></th>\n",
       "      <th>selling_price</th>\n",
       "      <th>km_driven</th>\n",
       "      <th>Age_Year</th>\n",
       "      <th>fuel_Diesel</th>\n",
       "      <th>fuel_Electric</th>\n",
       "      <th>fuel_LPG</th>\n",
       "      <th>fuel_Petrol</th>\n",
       "      <th>seller_type_Individual</th>\n",
       "      <th>seller_type_Trustmark Dealer</th>\n",
       "      <th>transmission_Manual</th>\n",
       "      <th>owner_Fourth &amp; Above Owner</th>\n",
       "      <th>owner_Second Owner</th>\n",
       "      <th>owner_Test Drive Car</th>\n",
       "      <th>owner_Third Owner</th>\n",
       "    </tr>\n",
       "  </thead>\n",
       "  <tbody>\n",
       "    <tr>\n",
       "      <th>0</th>\n",
       "      <td>60000</td>\n",
       "      <td>70000</td>\n",
       "      <td>14</td>\n",
       "      <td>0</td>\n",
       "      <td>0</td>\n",
       "      <td>0</td>\n",
       "      <td>1</td>\n",
       "      <td>1</td>\n",
       "      <td>0</td>\n",
       "      <td>1</td>\n",
       "      <td>0</td>\n",
       "      <td>0</td>\n",
       "      <td>0</td>\n",
       "      <td>0</td>\n",
       "    </tr>\n",
       "    <tr>\n",
       "      <th>1</th>\n",
       "      <td>135000</td>\n",
       "      <td>50000</td>\n",
       "      <td>14</td>\n",
       "      <td>0</td>\n",
       "      <td>0</td>\n",
       "      <td>0</td>\n",
       "      <td>1</td>\n",
       "      <td>1</td>\n",
       "      <td>0</td>\n",
       "      <td>1</td>\n",
       "      <td>0</td>\n",
       "      <td>0</td>\n",
       "      <td>0</td>\n",
       "      <td>0</td>\n",
       "    </tr>\n",
       "    <tr>\n",
       "      <th>2</th>\n",
       "      <td>600000</td>\n",
       "      <td>100000</td>\n",
       "      <td>9</td>\n",
       "      <td>1</td>\n",
       "      <td>0</td>\n",
       "      <td>0</td>\n",
       "      <td>0</td>\n",
       "      <td>1</td>\n",
       "      <td>0</td>\n",
       "      <td>1</td>\n",
       "      <td>0</td>\n",
       "      <td>0</td>\n",
       "      <td>0</td>\n",
       "      <td>0</td>\n",
       "    </tr>\n",
       "    <tr>\n",
       "      <th>3</th>\n",
       "      <td>250000</td>\n",
       "      <td>46000</td>\n",
       "      <td>4</td>\n",
       "      <td>0</td>\n",
       "      <td>0</td>\n",
       "      <td>0</td>\n",
       "      <td>1</td>\n",
       "      <td>1</td>\n",
       "      <td>0</td>\n",
       "      <td>1</td>\n",
       "      <td>0</td>\n",
       "      <td>0</td>\n",
       "      <td>0</td>\n",
       "      <td>0</td>\n",
       "    </tr>\n",
       "    <tr>\n",
       "      <th>4</th>\n",
       "      <td>450000</td>\n",
       "      <td>141000</td>\n",
       "      <td>7</td>\n",
       "      <td>1</td>\n",
       "      <td>0</td>\n",
       "      <td>0</td>\n",
       "      <td>0</td>\n",
       "      <td>1</td>\n",
       "      <td>0</td>\n",
       "      <td>1</td>\n",
       "      <td>0</td>\n",
       "      <td>1</td>\n",
       "      <td>0</td>\n",
       "      <td>0</td>\n",
       "    </tr>\n",
       "  </tbody>\n",
       "</table>\n",
       "</div>"
      ],
      "text/plain": [
       "   selling_price  km_driven  Age_Year  fuel_Diesel  fuel_Electric  fuel_LPG  \\\n",
       "0          60000      70000        14            0              0         0   \n",
       "1         135000      50000        14            0              0         0   \n",
       "2         600000     100000         9            1              0         0   \n",
       "3         250000      46000         4            0              0         0   \n",
       "4         450000     141000         7            1              0         0   \n",
       "\n",
       "   fuel_Petrol  seller_type_Individual  seller_type_Trustmark Dealer  \\\n",
       "0            1                       1                             0   \n",
       "1            1                       1                             0   \n",
       "2            0                       1                             0   \n",
       "3            1                       1                             0   \n",
       "4            0                       1                             0   \n",
       "\n",
       "   transmission_Manual  owner_Fourth & Above Owner  owner_Second Owner  \\\n",
       "0                    1                           0                   0   \n",
       "1                    1                           0                   0   \n",
       "2                    1                           0                   0   \n",
       "3                    1                           0                   0   \n",
       "4                    1                           0                   1   \n",
       "\n",
       "   owner_Test Drive Car  owner_Third Owner  \n",
       "0                     0                  0  \n",
       "1                     0                  0  \n",
       "2                     0                  0  \n",
       "3                     0                  0  \n",
       "4                     0                  0  "
      ]
     },
     "execution_count": 23,
     "metadata": {},
     "output_type": "execute_result"
    }
   ],
   "source": [
    "data_required = pd.get_dummies(data_required , drop_first = True)\n",
    "data_required.head()"
   ]
  },
  {
   "cell_type": "code",
   "execution_count": 24,
   "id": "6d030ba4",
   "metadata": {},
   "outputs": [],
   "source": [
    "data_required_x = data_required.drop(\"selling_price\" , axis =1)"
   ]
  },
  {
   "cell_type": "code",
   "execution_count": 25,
   "id": "312fb2a0",
   "metadata": {},
   "outputs": [],
   "source": [
    "##Outlier AnaLysis "
   ]
  },
  {
   "cell_type": "code",
   "execution_count": 26,
   "id": "26937423",
   "metadata": {},
   "outputs": [
    {
     "data": {
      "text/html": [
       "<div>\n",
       "<style scoped>\n",
       "    .dataframe tbody tr th:only-of-type {\n",
       "        vertical-align: middle;\n",
       "    }\n",
       "\n",
       "    .dataframe tbody tr th {\n",
       "        vertical-align: top;\n",
       "    }\n",
       "\n",
       "    .dataframe thead th {\n",
       "        text-align: right;\n",
       "    }\n",
       "</style>\n",
       "<table border=\"1\" class=\"dataframe\">\n",
       "  <thead>\n",
       "    <tr style=\"text-align: right;\">\n",
       "      <th></th>\n",
       "      <th>selling_price</th>\n",
       "      <th>km_driven</th>\n",
       "      <th>Age_Year</th>\n",
       "      <th>fuel_Diesel</th>\n",
       "      <th>fuel_Electric</th>\n",
       "      <th>fuel_LPG</th>\n",
       "      <th>fuel_Petrol</th>\n",
       "      <th>seller_type_Individual</th>\n",
       "      <th>seller_type_Trustmark Dealer</th>\n",
       "      <th>transmission_Manual</th>\n",
       "      <th>owner_Fourth &amp; Above Owner</th>\n",
       "      <th>owner_Second Owner</th>\n",
       "      <th>owner_Test Drive Car</th>\n",
       "      <th>owner_Third Owner</th>\n",
       "      <th>Zscore_SP</th>\n",
       "    </tr>\n",
       "  </thead>\n",
       "  <tbody>\n",
       "    <tr>\n",
       "      <th>89</th>\n",
       "      <td>8150000</td>\n",
       "      <td>6500</td>\n",
       "      <td>4</td>\n",
       "      <td>1</td>\n",
       "      <td>0</td>\n",
       "      <td>0</td>\n",
       "      <td>0</td>\n",
       "      <td>0</td>\n",
       "      <td>0</td>\n",
       "      <td>0</td>\n",
       "      <td>0</td>\n",
       "      <td>0</td>\n",
       "      <td>0</td>\n",
       "      <td>0</td>\n",
       "      <td>13.217130</td>\n",
       "    </tr>\n",
       "    <tr>\n",
       "      <th>96</th>\n",
       "      <td>2800000</td>\n",
       "      <td>49000</td>\n",
       "      <td>8</td>\n",
       "      <td>1</td>\n",
       "      <td>0</td>\n",
       "      <td>0</td>\n",
       "      <td>0</td>\n",
       "      <td>0</td>\n",
       "      <td>0</td>\n",
       "      <td>0</td>\n",
       "      <td>0</td>\n",
       "      <td>0</td>\n",
       "      <td>0</td>\n",
       "      <td>0</td>\n",
       "      <td>3.968788</td>\n",
       "    </tr>\n",
       "    <tr>\n",
       "      <th>101</th>\n",
       "      <td>4500000</td>\n",
       "      <td>9800</td>\n",
       "      <td>3</td>\n",
       "      <td>0</td>\n",
       "      <td>0</td>\n",
       "      <td>0</td>\n",
       "      <td>1</td>\n",
       "      <td>0</td>\n",
       "      <td>0</td>\n",
       "      <td>0</td>\n",
       "      <td>0</td>\n",
       "      <td>0</td>\n",
       "      <td>0</td>\n",
       "      <td>0</td>\n",
       "      <td>6.907513</td>\n",
       "    </tr>\n",
       "    <tr>\n",
       "      <th>102</th>\n",
       "      <td>2750000</td>\n",
       "      <td>13000</td>\n",
       "      <td>4</td>\n",
       "      <td>1</td>\n",
       "      <td>0</td>\n",
       "      <td>0</td>\n",
       "      <td>0</td>\n",
       "      <td>1</td>\n",
       "      <td>0</td>\n",
       "      <td>0</td>\n",
       "      <td>0</td>\n",
       "      <td>0</td>\n",
       "      <td>0</td>\n",
       "      <td>0</td>\n",
       "      <td>3.882355</td>\n",
       "    </tr>\n",
       "    <tr>\n",
       "      <th>105</th>\n",
       "      <td>2500000</td>\n",
       "      <td>48000</td>\n",
       "      <td>9</td>\n",
       "      <td>1</td>\n",
       "      <td>0</td>\n",
       "      <td>0</td>\n",
       "      <td>0</td>\n",
       "      <td>0</td>\n",
       "      <td>0</td>\n",
       "      <td>0</td>\n",
       "      <td>0</td>\n",
       "      <td>0</td>\n",
       "      <td>0</td>\n",
       "      <td>0</td>\n",
       "      <td>3.450189</td>\n",
       "    </tr>\n",
       "    <tr>\n",
       "      <th>...</th>\n",
       "      <td>...</td>\n",
       "      <td>...</td>\n",
       "      <td>...</td>\n",
       "      <td>...</td>\n",
       "      <td>...</td>\n",
       "      <td>...</td>\n",
       "      <td>...</td>\n",
       "      <td>...</td>\n",
       "      <td>...</td>\n",
       "      <td>...</td>\n",
       "      <td>...</td>\n",
       "      <td>...</td>\n",
       "      <td>...</td>\n",
       "      <td>...</td>\n",
       "      <td>...</td>\n",
       "    </tr>\n",
       "    <tr>\n",
       "      <th>4047</th>\n",
       "      <td>4500000</td>\n",
       "      <td>80000</td>\n",
       "      <td>4</td>\n",
       "      <td>1</td>\n",
       "      <td>0</td>\n",
       "      <td>0</td>\n",
       "      <td>0</td>\n",
       "      <td>1</td>\n",
       "      <td>0</td>\n",
       "      <td>0</td>\n",
       "      <td>0</td>\n",
       "      <td>0</td>\n",
       "      <td>0</td>\n",
       "      <td>0</td>\n",
       "      <td>6.907513</td>\n",
       "    </tr>\n",
       "    <tr>\n",
       "      <th>4186</th>\n",
       "      <td>2750000</td>\n",
       "      <td>41000</td>\n",
       "      <td>4</td>\n",
       "      <td>1</td>\n",
       "      <td>0</td>\n",
       "      <td>0</td>\n",
       "      <td>0</td>\n",
       "      <td>1</td>\n",
       "      <td>0</td>\n",
       "      <td>0</td>\n",
       "      <td>0</td>\n",
       "      <td>0</td>\n",
       "      <td>0</td>\n",
       "      <td>0</td>\n",
       "      <td>3.882355</td>\n",
       "    </tr>\n",
       "    <tr>\n",
       "      <th>4224</th>\n",
       "      <td>2500000</td>\n",
       "      <td>70000</td>\n",
       "      <td>5</td>\n",
       "      <td>0</td>\n",
       "      <td>0</td>\n",
       "      <td>0</td>\n",
       "      <td>1</td>\n",
       "      <td>1</td>\n",
       "      <td>0</td>\n",
       "      <td>0</td>\n",
       "      <td>0</td>\n",
       "      <td>1</td>\n",
       "      <td>0</td>\n",
       "      <td>0</td>\n",
       "      <td>3.450189</td>\n",
       "    </tr>\n",
       "    <tr>\n",
       "      <th>4304</th>\n",
       "      <td>3899000</td>\n",
       "      <td>22000</td>\n",
       "      <td>3</td>\n",
       "      <td>1</td>\n",
       "      <td>0</td>\n",
       "      <td>0</td>\n",
       "      <td>0</td>\n",
       "      <td>0</td>\n",
       "      <td>0</td>\n",
       "      <td>0</td>\n",
       "      <td>0</td>\n",
       "      <td>0</td>\n",
       "      <td>0</td>\n",
       "      <td>0</td>\n",
       "      <td>5.868587</td>\n",
       "    </tr>\n",
       "    <tr>\n",
       "      <th>4313</th>\n",
       "      <td>2800000</td>\n",
       "      <td>10000</td>\n",
       "      <td>2</td>\n",
       "      <td>1</td>\n",
       "      <td>0</td>\n",
       "      <td>0</td>\n",
       "      <td>0</td>\n",
       "      <td>1</td>\n",
       "      <td>0</td>\n",
       "      <td>0</td>\n",
       "      <td>0</td>\n",
       "      <td>0</td>\n",
       "      <td>0</td>\n",
       "      <td>0</td>\n",
       "      <td>3.968788</td>\n",
       "    </tr>\n",
       "  </tbody>\n",
       "</table>\n",
       "<p>92 rows × 15 columns</p>\n",
       "</div>"
      ],
      "text/plain": [
       "      selling_price  km_driven  Age_Year  fuel_Diesel  fuel_Electric  \\\n",
       "89          8150000       6500         4            1              0   \n",
       "96          2800000      49000         8            1              0   \n",
       "101         4500000       9800         3            0              0   \n",
       "102         2750000      13000         4            1              0   \n",
       "105         2500000      48000         9            1              0   \n",
       "...             ...        ...       ...          ...            ...   \n",
       "4047        4500000      80000         4            1              0   \n",
       "4186        2750000      41000         4            1              0   \n",
       "4224        2500000      70000         5            0              0   \n",
       "4304        3899000      22000         3            1              0   \n",
       "4313        2800000      10000         2            1              0   \n",
       "\n",
       "      fuel_LPG  fuel_Petrol  seller_type_Individual  \\\n",
       "89           0            0                       0   \n",
       "96           0            0                       0   \n",
       "101          0            1                       0   \n",
       "102          0            0                       1   \n",
       "105          0            0                       0   \n",
       "...        ...          ...                     ...   \n",
       "4047         0            0                       1   \n",
       "4186         0            0                       1   \n",
       "4224         0            1                       1   \n",
       "4304         0            0                       0   \n",
       "4313         0            0                       1   \n",
       "\n",
       "      seller_type_Trustmark Dealer  transmission_Manual  \\\n",
       "89                               0                    0   \n",
       "96                               0                    0   \n",
       "101                              0                    0   \n",
       "102                              0                    0   \n",
       "105                              0                    0   \n",
       "...                            ...                  ...   \n",
       "4047                             0                    0   \n",
       "4186                             0                    0   \n",
       "4224                             0                    0   \n",
       "4304                             0                    0   \n",
       "4313                             0                    0   \n",
       "\n",
       "      owner_Fourth & Above Owner  owner_Second Owner  owner_Test Drive Car  \\\n",
       "89                             0                   0                     0   \n",
       "96                             0                   0                     0   \n",
       "101                            0                   0                     0   \n",
       "102                            0                   0                     0   \n",
       "105                            0                   0                     0   \n",
       "...                          ...                 ...                   ...   \n",
       "4047                           0                   0                     0   \n",
       "4186                           0                   0                     0   \n",
       "4224                           0                   1                     0   \n",
       "4304                           0                   0                     0   \n",
       "4313                           0                   0                     0   \n",
       "\n",
       "      owner_Third Owner  Zscore_SP  \n",
       "89                    0  13.217130  \n",
       "96                    0   3.968788  \n",
       "101                   0   6.907513  \n",
       "102                   0   3.882355  \n",
       "105                   0   3.450189  \n",
       "...                 ...        ...  \n",
       "4047                  0   6.907513  \n",
       "4186                  0   3.882355  \n",
       "4224                  0   3.450189  \n",
       "4304                  0   5.868587  \n",
       "4313                  0   3.968788  \n",
       "\n",
       "[92 rows x 15 columns]"
      ]
     },
     "execution_count": 26,
     "metadata": {},
     "output_type": "execute_result"
    }
   ],
   "source": [
    "#Z score / Outlier\n",
    "from scipy.stats import zscore\n",
    "data_required['Zscore_SP'] = zscore(data_required.selling_price)\n",
    "data_required[(data_required.Zscore_SP >3.0) | (data_required.Zscore_SP <-3.0)]"
   ]
  },
  {
   "cell_type": "code",
   "execution_count": 27,
   "id": "e053091c",
   "metadata": {},
   "outputs": [
    {
     "data": {
      "text/plain": [
       "{'whiskers': [<matplotlib.lines.Line2D at 0x2379d33efd0>,\n",
       "  <matplotlib.lines.Line2D at 0x2379d35a2e0>],\n",
       " 'caps': [<matplotlib.lines.Line2D at 0x2379d35a670>,\n",
       "  <matplotlib.lines.Line2D at 0x2379d35a880>],\n",
       " 'boxes': [<matplotlib.lines.Line2D at 0x2379d33ed00>],\n",
       " 'medians': [<matplotlib.lines.Line2D at 0x2379d35ab50>],\n",
       " 'fliers': [<matplotlib.lines.Line2D at 0x2379d32ac10>],\n",
       " 'means': []}"
      ]
     },
     "execution_count": 27,
     "metadata": {},
     "output_type": "execute_result"
    },
    {
     "data": {
      "image/png": "[encoded data removed]",
      "text/plain": [
       "<Figure size 432x288 with 1 Axes>"
      ]
     },
     "metadata": {
      "needs_background": "light"
     },
     "output_type": "display_data"
    }
   ],
   "source": [
    "plt.boxplot(data_required['selling_price'])"
   ]
  },
  {
   "cell_type": "code",
   "execution_count": 28,
   "id": "9de3d953",
   "metadata": {},
   "outputs": [],
   "source": [
    "#Multi collinearity\n"
   ]
  },
  {
   "cell_type": "code",
   "execution_count": 29,
   "id": "60acc6ef",
   "metadata": {},
   "outputs": [
    {
     "data": {
      "text/plain": [
       "<AxesSubplot:>"
      ]
     },
     "execution_count": 29,
     "metadata": {},
     "output_type": "execute_result"
    },
    {
     "data": {
      "image/png": "[encoded data removed]",
      "text/plain": [
       "<Figure size 864x720 with 2 Axes>"
      ]
     },
     "metadata": {
      "needs_background": "light"
     },
     "output_type": "display_data"
    }
   ],
   "source": [
    "plt.figure(figsize = (12,10))\n",
    "sns.heatmap(data_required_x.corr(), annot =True)"
   ]
  },
  {
   "cell_type": "code",
   "execution_count": 30,
   "id": "df96f1dd",
   "metadata": {},
   "outputs": [],
   "source": [
    "#Train and Test"
   ]
  },
  {
   "cell_type": "code",
   "execution_count": 31,
   "id": "40c82769",
   "metadata": {},
   "outputs": [],
   "source": [
    "import statsmodels.api as sm"
   ]
  },
  {
   "cell_type": "code",
   "execution_count": 32,
   "id": "988ec89f",
   "metadata": {},
   "outputs": [],
   "source": [
    "x = sm.add_constant(data_required_x)\n",
    "y = data_required.iloc[:,0]"
   ]
  },
  {
   "cell_type": "code",
   "execution_count": 35,
   "id": "a6b65cf8",
   "metadata": {},
   "outputs": [],
   "source": [
    "train_x, test_x , train_y, test_y = train_test_split(x,y, train_size = 0.8 , random_state = 100)"
   ]
  },
  {
   "cell_type": "code",
   "execution_count": 36,
   "id": "7692d600",
   "metadata": {},
   "outputs": [],
   "source": [
    "#Model Cretion"
   ]
  },
  {
   "cell_type": "code",
   "execution_count": 38,
   "id": "5b562fd9",
   "metadata": {},
   "outputs": [],
   "source": [
    "model_1= sm.OLS(train_y, train_x).fit()"
   ]
  },
  {
   "cell_type": "code",
   "execution_count": 39,
   "id": "974d6aa1",
   "metadata": {},
   "outputs": [
    {
     "data": {
      "text/html": [
       "<table class=\"simpletable\">\n",
       "<tr>\n",
       "        <td>Model:</td>               <td>OLS</td>         <td>Adj. R-squared:</td>      <td>0.445</td>   \n",
       "</tr>\n",
       "<tr>\n",
       "  <td>Dependent Variable:</td>   <td>selling_price</td>         <td>AIC:</td>         <td>99950.6401</td> \n",
       "</tr>\n",
       "<tr>\n",
       "         <td>Date:</td>        <td>2022-01-08 18:04</td>        <td>BIC:</td>         <td>100036.7749</td>\n",
       "</tr>\n",
       "<tr>\n",
       "   <td>No. Observations:</td>        <td>3472</td>         <td>Log-Likelihood:</td>     <td>-49961.</td>  \n",
       "</tr>\n",
       "<tr>\n",
       "       <td>Df Model:</td>             <td>13</td>           <td>F-statistic:</td>        <td>214.7</td>   \n",
       "</tr>\n",
       "<tr>\n",
       "     <td>Df Residuals:</td>          <td>3458</td>       <td>Prob (F-statistic):</td>    <td>0.00</td>    \n",
       "</tr>\n",
       "<tr>\n",
       "      <td>R-squared:</td>            <td>0.447</td>            <td>Scale:</td>        <td>1.8539e+11</td> \n",
       "</tr>\n",
       "</table>\n",
       "<table class=\"simpletable\">\n",
       "<tr>\n",
       "                <td></td>                   <th>Coef.</th>     <th>Std.Err.</th>       <th>t</th>     <th>P>|t|</th>    <th>[0.025</th>        <th>0.975]</th>   \n",
       "</tr>\n",
       "<tr>\n",
       "  <th>const</th>                        <td>1508895.0658</td> <td>82015.1378</td>   <td>18.3978</td> <td>0.0000</td> <td>1348092.0658</td>  <td>1669698.0658</td>\n",
       "</tr>\n",
       "<tr>\n",
       "  <th>km_driven</th>                       <td>-0.9825</td>     <td>0.1916</td>     <td>-5.1294</td> <td>0.0000</td>    <td>-1.3581</td>       <td>-0.6070</td>  \n",
       "</tr>\n",
       "<tr>\n",
       "  <th>Age_Year</th>                      <td>-34198.4994</td>  <td>2147.0077</td>  <td>-15.9284</td> <td>0.0000</td>  <td>-38408.0305</td>   <td>-29988.9683</td>\n",
       "</tr>\n",
       "<tr>\n",
       "  <th>fuel_Diesel</th>                   <td>291301.3039</td> <td>78221.1242</td>   <td>3.7241</td>  <td>0.0002</td>  <td>137937.0375</td>   <td>444665.5703</td>\n",
       "</tr>\n",
       "<tr>\n",
       "  <th>fuel_Electric</th>                <td>-584425.7108</td> <td>438733.6135</td>  <td>-1.3321</td> <td>0.1829</td> <td>-1444628.8775</td>  <td>275777.4559</td>\n",
       "</tr>\n",
       "<tr>\n",
       "  <th>fuel_LPG</th>                      <td>49938.1108</td>  <td>121934.3790</td>  <td>0.4095</td>  <td>0.6822</td> <td>-189132.5591</td>   <td>289008.7807</td>\n",
       "</tr>\n",
       "<tr>\n",
       "  <th>fuel_Petrol</th>                   <td>-3702.2410</td>  <td>78256.1526</td>   <td>-0.0473</td> <td>0.9623</td> <td>-157135.1857</td>   <td>149730.7037</td>\n",
       "</tr>\n",
       "<tr>\n",
       "  <th>seller_type_Individual</th>        <td>-55123.8799</td> <td>18727.6038</td>   <td>-2.9435</td> <td>0.0033</td>  <td>-91842.1608</td>   <td>-18405.5989</td>\n",
       "</tr>\n",
       "<tr>\n",
       "  <th>seller_type_Trustmark Dealer</th>  <td>177837.6222</td> <td>50193.4335</td>   <td>3.5430</td>  <td>0.0004</td>  <td>79425.8545</td>    <td>276249.3899</td>\n",
       "</tr>\n",
       "<tr>\n",
       "  <th>transmission_Manual</th>          <td>-851930.0417</td> <td>24583.8761</td>  <td>-34.6540</td> <td>0.0000</td> <td>-900130.4245</td>  <td>-803729.6590</td>\n",
       "</tr>\n",
       "<tr>\n",
       "  <th>owner_Fourth & Above Owner</th>    <td>-15463.7382</td> <td>57432.4451</td>   <td>-0.2693</td> <td>0.7878</td> <td>-128068.6758</td>   <td>97141.1994</td> \n",
       "</tr>\n",
       "<tr>\n",
       "  <th>owner_Second Owner</th>            <td>-40573.7866</td> <td>18891.2492</td>   <td>-2.1478</td> <td>0.0318</td>  <td>-77612.9190</td>   <td>-3534.6541</td> \n",
       "</tr>\n",
       "<tr>\n",
       "  <th>owner_Test Drive Car</th>          <td>211483.1203</td> <td>126012.6135</td>  <td>1.6783</td>  <td>0.0934</td>  <td>-35583.5412</td>   <td>458549.7817</td>\n",
       "</tr>\n",
       "<tr>\n",
       "  <th>owner_Third Owner</th>             <td>-39949.4410</td> <td>31236.3149</td>   <td>-1.2789</td> <td>0.2010</td> <td>-101192.9295</td>   <td>21294.0475</td> \n",
       "</tr>\n",
       "</table>\n",
       "<table class=\"simpletable\">\n",
       "<tr>\n",
       "     <td>Omnibus:</td>    <td>3704.234</td>  <td>Durbin-Watson:</td>      <td>2.029</td>  \n",
       "</tr>\n",
       "<tr>\n",
       "  <td>Prob(Omnibus):</td>   <td>0.000</td>  <td>Jarque-Bera (JB):</td> <td>521700.709</td>\n",
       "</tr>\n",
       "<tr>\n",
       "       <td>Skew:</td>       <td>5.064</td>      <td>Prob(JB):</td>        <td>0.000</td>  \n",
       "</tr>\n",
       "<tr>\n",
       "     <td>Kurtosis:</td>    <td>62.192</td>   <td>Condition No.:</td>     <td>4827807</td> \n",
       "</tr>\n",
       "</table>"
      ],
      "text/plain": [
       "<class 'statsmodels.iolib.summary2.Summary'>\n",
       "\"\"\"\n",
       "                                Results: Ordinary least squares\n",
       "================================================================================================\n",
       "Model:                        OLS                       Adj. R-squared:              0.445      \n",
       "Dependent Variable:           selling_price             AIC:                         99950.6401 \n",
       "Date:                         2022-01-08 18:04          BIC:                         100036.7749\n",
       "No. Observations:             3472                      Log-Likelihood:              -49961.    \n",
       "Df Model:                     13                        F-statistic:                 214.7      \n",
       "Df Residuals:                 3458                      Prob (F-statistic):          0.00       \n",
       "R-squared:                    0.447                     Scale:                       1.8539e+11 \n",
       "------------------------------------------------------------------------------------------------\n",
       "                                Coef.       Std.Err.     t     P>|t|      [0.025       0.975]   \n",
       "------------------------------------------------------------------------------------------------\n",
       "const                        1508895.0658  82015.1378  18.3978 0.0000  1348092.0658 1669698.0658\n",
       "km_driven                         -0.9825      0.1916  -5.1294 0.0000       -1.3581      -0.6070\n",
       "Age_Year                      -34198.4994   2147.0077 -15.9284 0.0000   -38408.0305  -29988.9683\n",
       "fuel_Diesel                   291301.3039  78221.1242   3.7241 0.0002   137937.0375  444665.5703\n",
       "fuel_Electric                -584425.7108 438733.6135  -1.3321 0.1829 -1444628.8775  275777.4559\n",
       "fuel_LPG                       49938.1108 121934.3790   0.4095 0.6822  -189132.5591  289008.7807\n",
       "fuel_Petrol                    -3702.2410  78256.1526  -0.0473 0.9623  -157135.1857  149730.7037\n",
       "seller_type_Individual        -55123.8799  18727.6038  -2.9435 0.0033   -91842.1608  -18405.5989\n",
       "seller_type_Trustmark Dealer  177837.6222  50193.4335   3.5430 0.0004    79425.8545  276249.3899\n",
       "transmission_Manual          -851930.0417  24583.8761 -34.6540 0.0000  -900130.4245 -803729.6590\n",
       "owner_Fourth & Above Owner    -15463.7382  57432.4451  -0.2693 0.7878  -128068.6758   97141.1994\n",
       "owner_Second Owner            -40573.7866  18891.2492  -2.1478 0.0318   -77612.9190   -3534.6541\n",
       "owner_Test Drive Car          211483.1203 126012.6135   1.6783 0.0934   -35583.5412  458549.7817\n",
       "owner_Third Owner             -39949.4410  31236.3149  -1.2789 0.2010  -101192.9295   21294.0475\n",
       "------------------------------------------------------------------------------------------------\n",
       "Omnibus:                       3704.234               Durbin-Watson:                  2.029     \n",
       "Prob(Omnibus):                 0.000                  Jarque-Bera (JB):               521700.709\n",
       "Skew:                          5.064                  Prob(JB):                       0.000     \n",
       "Kurtosis:                      62.192                 Condition No.:                  4827807   \n",
       "================================================================================================\n",
       "* The condition number is large (5e+06). This might indicate             strong\n",
       "multicollinearity or other numerical problems.\n",
       "\"\"\""
      ]
     },
     "execution_count": 39,
     "metadata": {},
     "output_type": "execute_result"
    }
   ],
   "source": [
    "model_1.summary2()"
   ]
  },
  {
   "cell_type": "code",
   "execution_count": 40,
   "id": "2e9d61a1",
   "metadata": {},
   "outputs": [],
   "source": [
    "sig_var = ['km_driven','Age_Year','transmission_Manual','seller_type_Individual']"
   ]
  },
  {
   "cell_type": "code",
   "execution_count": 41,
   "id": "70961104",
   "metadata": {},
   "outputs": [],
   "source": [
    "train_x = train_x[sig_var]"
   ]
  },
  {
   "cell_type": "code",
   "execution_count": 43,
   "id": "e61e5b50",
   "metadata": {},
   "outputs": [],
   "source": [
    "model_2=sm.OLS(train_y , train_x).fit()"
   ]
  },
  {
   "cell_type": "code",
   "execution_count": 44,
   "id": "9a866908",
   "metadata": {},
   "outputs": [
    {
     "data": {
      "text/html": [
       "<table class=\"simpletable\">\n",
       "<tr>\n",
       "          <td>Model:</td>                 <td>OLS</td>       <td>Adj. R-squared (uncentered):</td>    <td>0.267</td>   \n",
       "</tr>\n",
       "<tr>\n",
       "    <td>Dependent Variable:</td>     <td>selling_price</td>              <td>AIC:</td>             <td>102861.3504</td>\n",
       "</tr>\n",
       "<tr>\n",
       "           <td>Date:</td>          <td>2022-01-08 18:18</td>             <td>BIC:</td>             <td>102885.9603</td>\n",
       "</tr>\n",
       "<tr>\n",
       "     <td>No. Observations:</td>          <td>3472</td>              <td>Log-Likelihood:</td>         <td>-51427.</td>  \n",
       "</tr>\n",
       "<tr>\n",
       "         <td>Df Model:</td>                <td>4</td>                <td>F-statistic:</td>            <td>318.0</td>   \n",
       "</tr>\n",
       "<tr>\n",
       "       <td>Df Residuals:</td>            <td>3468</td>            <td>Prob (F-statistic):</td>      <td>2.40e-233</td> \n",
       "</tr>\n",
       "<tr>\n",
       "  <td>R-squared (uncentered):</td>       <td>0.268</td>                 <td>Scale:</td>            <td>4.2995e+11</td> \n",
       "</tr>\n",
       "</table>\n",
       "<table class=\"simpletable\">\n",
       "<tr>\n",
       "             <td></td>               <th>Coef.</th>     <th>Std.Err.</th>     <th>t</th>     <th>P>|t|</th>   <th>[0.025</th>      <th>0.975]</th>   \n",
       "</tr>\n",
       "<tr>\n",
       "  <th>km_driven</th>                <td>1.5716</td>      <td>0.2662</td>   <td>5.9035</td>  <td>0.0000</td>   <td>1.0497</td>      <td>2.0936</td>   \n",
       "</tr>\n",
       "<tr>\n",
       "  <th>Age_Year</th>               <td>-10134.6347</td>  <td>2784.7923</td> <td>-3.6393</td> <td>0.0003</td> <td>-15594.6330</td> <td>-4674.6364</td> \n",
       "</tr>\n",
       "<tr>\n",
       "  <th>transmission_Manual</th>    <td>217430.8342</td> <td>27258.6392</td> <td>7.9766</td>  <td>0.0000</td> <td>163986.2306</td> <td>270875.4379</td>\n",
       "</tr>\n",
       "<tr>\n",
       "  <th>seller_type_Individual</th> <td>203281.8139</td> <td>25856.9638</td> <td>7.8618</td>  <td>0.0000</td> <td>152585.4027</td> <td>253978.2251</td>\n",
       "</tr>\n",
       "</table>\n",
       "<table class=\"simpletable\">\n",
       "<tr>\n",
       "     <td>Omnibus:</td>    <td>3332.341</td>  <td>Durbin-Watson:</td>      <td>1.963</td>  \n",
       "</tr>\n",
       "<tr>\n",
       "  <td>Prob(Omnibus):</td>   <td>0.000</td>  <td>Jarque-Bera (JB):</td> <td>177835.485</td>\n",
       "</tr>\n",
       "<tr>\n",
       "       <td>Skew:</td>       <td>4.583</td>      <td>Prob(JB):</td>        <td>0.000</td>  \n",
       "</tr>\n",
       "<tr>\n",
       "     <td>Kurtosis:</td>    <td>36.842</td>   <td>Condition No.:</td>     <td>234873</td>  \n",
       "</tr>\n",
       "</table>"
      ],
      "text/plain": [
       "<class 'statsmodels.iolib.summary2.Summary'>\n",
       "\"\"\"\n",
       "                          Results: Ordinary least squares\n",
       "====================================================================================\n",
       "Model:                   OLS               Adj. R-squared (uncentered):  0.267      \n",
       "Dependent Variable:      selling_price     AIC:                          102861.3504\n",
       "Date:                    2022-01-08 18:18  BIC:                          102885.9603\n",
       "No. Observations:        3472              Log-Likelihood:               -51427.    \n",
       "Df Model:                4                 F-statistic:                  318.0      \n",
       "Df Residuals:            3468              Prob (F-statistic):           2.40e-233  \n",
       "R-squared (uncentered):  0.268             Scale:                        4.2995e+11 \n",
       "------------------------------------------------------------------------------------\n",
       "                          Coef.     Std.Err.     t    P>|t|     [0.025      0.975]  \n",
       "------------------------------------------------------------------------------------\n",
       "km_driven                   1.5716     0.2662  5.9035 0.0000      1.0497      2.0936\n",
       "Age_Year               -10134.6347  2784.7923 -3.6393 0.0003 -15594.6330  -4674.6364\n",
       "transmission_Manual    217430.8342 27258.6392  7.9766 0.0000 163986.2306 270875.4379\n",
       "seller_type_Individual 203281.8139 25856.9638  7.8618 0.0000 152585.4027 253978.2251\n",
       "------------------------------------------------------------------------------------\n",
       "Omnibus:                   3332.341           Durbin-Watson:              1.963     \n",
       "Prob(Omnibus):             0.000              Jarque-Bera (JB):           177835.485\n",
       "Skew:                      4.583              Prob(JB):                   0.000     \n",
       "Kurtosis:                  36.842             Condition No.:              234873    \n",
       "====================================================================================\n",
       "* The condition number is large (2e+05). This might indicate             strong\n",
       "multicollinearity or other numerical problems.\n",
       "\"\"\""
      ]
     },
     "execution_count": 44,
     "metadata": {},
     "output_type": "execute_result"
    }
   ],
   "source": [
    "model_2.summary2()"
   ]
  },
  {
   "cell_type": "code",
   "execution_count": 45,
   "id": "da6989c6",
   "metadata": {},
   "outputs": [],
   "source": [
    "sig_var_2= ['km_driven','Age_Year','transmission_Manual',]\n"
   ]
  },
  {
   "cell_type": "code",
   "execution_count": 46,
   "id": "86396960",
   "metadata": {},
   "outputs": [],
   "source": [
    "train_x=train_x[sig_var_2]"
   ]
  },
  {
   "cell_type": "code",
   "execution_count": 47,
   "id": "1722e09e",
   "metadata": {},
   "outputs": [],
   "source": [
    "model_3=sm.OLS(train_y, train_x).fit()"
   ]
  },
  {
   "cell_type": "code",
   "execution_count": 48,
   "id": "c47e9c18",
   "metadata": {},
   "outputs": [
    {
     "data": {
      "text/html": [
       "<table class=\"simpletable\">\n",
       "<tr>\n",
       "          <td>Model:</td>                 <td>OLS</td>       <td>Adj. R-squared (uncentered):</td>    <td>0.255</td>   \n",
       "</tr>\n",
       "<tr>\n",
       "    <td>Dependent Variable:</td>     <td>selling_price</td>              <td>AIC:</td>             <td>102920.6844</td>\n",
       "</tr>\n",
       "<tr>\n",
       "           <td>Date:</td>          <td>2022-01-08 18:20</td>             <td>BIC:</td>             <td>102939.1418</td>\n",
       "</tr>\n",
       "<tr>\n",
       "     <td>No. Observations:</td>          <td>3472</td>              <td>Log-Likelihood:</td>         <td>-51457.</td>  \n",
       "</tr>\n",
       "<tr>\n",
       "         <td>Df Model:</td>                <td>3</td>                <td>F-statistic:</td>            <td>396.4</td>   \n",
       "</tr>\n",
       "<tr>\n",
       "       <td>Df Residuals:</td>            <td>3469</td>            <td>Prob (F-statistic):</td>      <td>2.12e-221</td> \n",
       "</tr>\n",
       "<tr>\n",
       "  <td>R-squared (uncentered):</td>       <td>0.255</td>                 <td>Scale:</td>            <td>4.3749e+11</td> \n",
       "</tr>\n",
       "</table>\n",
       "<table class=\"simpletable\">\n",
       "<tr>\n",
       "           <td></td>              <th>Coef.</th>     <th>Std.Err.</th>     <th>t</th>     <th>P>|t|</th>   <th>[0.025</th>      <th>0.975]</th>   \n",
       "</tr>\n",
       "<tr>\n",
       "  <th>km_driven</th>             <td>1.8746</td>      <td>0.2657</td>   <td>7.0547</td>  <td>0.0000</td>   <td>1.3536</td>      <td>2.3955</td>   \n",
       "</tr>\n",
       "<tr>\n",
       "  <th>Age_Year</th>            <td>-6288.1810</td>   <td>2765.3996</td> <td>-2.2739</td> <td>0.0230</td> <td>-11710.1563</td>  <td>-866.2056</td> \n",
       "</tr>\n",
       "<tr>\n",
       "  <th>transmission_Manual</th> <td>324960.1448</td> <td>23784.5642</td> <td>13.6626</td> <td>0.0000</td> <td>278326.9850</td> <td>371593.3047</td>\n",
       "</tr>\n",
       "</table>\n",
       "<table class=\"simpletable\">\n",
       "<tr>\n",
       "     <td>Omnibus:</td>    <td>3332.382</td>  <td>Durbin-Watson:</td>      <td>1.963</td>  \n",
       "</tr>\n",
       "<tr>\n",
       "  <td>Prob(Omnibus):</td>   <td>0.000</td>  <td>Jarque-Bera (JB):</td> <td>172561.001</td>\n",
       "</tr>\n",
       "<tr>\n",
       "       <td>Skew:</td>       <td>4.597</td>      <td>Prob(JB):</td>        <td>0.000</td>  \n",
       "</tr>\n",
       "<tr>\n",
       "     <td>Kurtosis:</td>    <td>36.291</td>   <td>Condition No.:</td>     <td>170346</td>  \n",
       "</tr>\n",
       "</table>"
      ],
      "text/plain": [
       "<class 'statsmodels.iolib.summary2.Summary'>\n",
       "\"\"\"\n",
       "                         Results: Ordinary least squares\n",
       "=================================================================================\n",
       "Model:                  OLS              Adj. R-squared (uncentered): 0.255      \n",
       "Dependent Variable:     selling_price    AIC:                         102920.6844\n",
       "Date:                   2022-01-08 18:20 BIC:                         102939.1418\n",
       "No. Observations:       3472             Log-Likelihood:              -51457.    \n",
       "Df Model:               3                F-statistic:                 396.4      \n",
       "Df Residuals:           3469             Prob (F-statistic):          2.12e-221  \n",
       "R-squared (uncentered): 0.255            Scale:                       4.3749e+11 \n",
       "---------------------------------------------------------------------------------\n",
       "                       Coef.     Std.Err.     t    P>|t|     [0.025      0.975]  \n",
       "---------------------------------------------------------------------------------\n",
       "km_driven                1.8746     0.2657  7.0547 0.0000      1.3536      2.3955\n",
       "Age_Year             -6288.1810  2765.3996 -2.2739 0.0230 -11710.1563   -866.2056\n",
       "transmission_Manual 324960.1448 23784.5642 13.6626 0.0000 278326.9850 371593.3047\n",
       "---------------------------------------------------------------------------------\n",
       "Omnibus:                  3332.382          Durbin-Watson:             1.963     \n",
       "Prob(Omnibus):            0.000             Jarque-Bera (JB):          172561.001\n",
       "Skew:                     4.597             Prob(JB):                  0.000     \n",
       "Kurtosis:                 36.291            Condition No.:             170346    \n",
       "=================================================================================\n",
       "* The condition number is large (2e+05). This might indicate             strong\n",
       "multicollinearity or other numerical problems.\n",
       "\"\"\""
      ]
     },
     "execution_count": 48,
     "metadata": {},
     "output_type": "execute_result"
    }
   ],
   "source": [
    "model_3.summary2()"
   ]
  },
  {
   "cell_type": "code",
   "execution_count": 51,
   "id": "d153ed86",
   "metadata": {},
   "outputs": [],
   "source": [
    "##    Model Validation / MODEL DIAGNOSTIC"
   ]
  },
  {
   "cell_type": "code",
   "execution_count": 59,
   "id": "c52a8a81",
   "metadata": {},
   "outputs": [
    {
     "data": {
      "text/plain": [
       "<Figure size 576x432 with 0 Axes>"
      ]
     },
     "metadata": {},
     "output_type": "display_data"
    },
    {
     "data": {
      "image/png": "[encoded data removed]",
      "text/plain": [
       "<Figure size 432x288 with 1 Axes>"
      ]
     },
     "metadata": {
      "needs_background": "light"
     },
     "output_type": "display_data"
    }
   ],
   "source": [
    "probplot =sm.ProbPlot(model_3.resid)\n",
    "plt.figure(figsize =(8,6))\n",
    "probplot.ppplot(line ='45')\n",
    "plt.show()"
   ]
  },
  {
   "cell_type": "code",
   "execution_count": 60,
   "id": "d1fb026e",
   "metadata": {},
   "outputs": [],
   "source": [
    "def get_standard_values(vals):\n",
    "    return(vals-vals.mean()) / vals.std()"
   ]
  },
  {
   "cell_type": "code",
   "execution_count": 63,
   "id": "8c8e151f",
   "metadata": {},
   "outputs": [
    {
     "data": {
      "text/plain": [
       "<matplotlib.collections.PathCollection at 0x237b35caaf0>"
      ]
     },
     "execution_count": 63,
     "metadata": {},
     "output_type": "execute_result"
    },
    {
     "data": {
      "image/png": "[encoded data removed]",
      "text/plain": [
       "<Figure size 432x288 with 1 Axes>"
      ]
     },
     "metadata": {
      "needs_background": "light"
     },
     "output_type": "display_data"
    }
   ],
   "source": [
    "plt.scatter(get_standard_values(model_3.fittedvalues) , get_standard_values(model_3.resid))"
   ]
  },
  {
   "cell_type": "code",
   "execution_count": 64,
   "id": "819b1a1c",
   "metadata": {},
   "outputs": [],
   "source": [
    "##Predictions"
   ]
  },
  {
   "cell_type": "code",
   "execution_count": 65,
   "id": "72c38b3d",
   "metadata": {},
   "outputs": [],
   "source": [
    "pred = model_3.predict(test_x[sig_var_2])"
   ]
  },
  {
   "cell_type": "code",
   "execution_count": 66,
   "id": "4a51cc7d",
   "metadata": {},
   "outputs": [
    {
     "data": {
      "text/plain": [
       "621     373412.328762\n",
       "2752    365843.916922\n",
       "4210    381078.218003\n",
       "1335    387247.510061\n",
       "1090    326051.336537\n",
       "            ...      \n",
       "2464    361233.471972\n",
       "3990    337963.213733\n",
       "781      68575.546208\n",
       "2005    371705.390988\n",
       "3634    359129.029015\n",
       "Length: 868, dtype: float64"
      ]
     },
     "execution_count": 66,
     "metadata": {},
     "output_type": "execute_result"
    }
   ],
   "source": [
    "pred"
   ]
  },
  {
   "cell_type": "code",
   "execution_count": 70,
   "id": "ac20675c",
   "metadata": {},
   "outputs": [
    {
     "data": {
      "text/plain": [
       "667065.133409527"
      ]
     },
     "execution_count": 70,
     "metadata": {},
     "output_type": "execute_result"
    }
   ],
   "source": [
    "from sklearn import metrics\n",
    "import numpy as np\n",
    "np.sqrt(metrics.mean_squared_error(pred, test_y))"
   ]
  },
  {
   "cell_type": "code",
   "execution_count": 71,
   "id": "d7e36ab5",
   "metadata": {},
   "outputs": [
    {
     "data": {
      "text/plain": [
       "-24.65"
      ]
     },
     "execution_count": 71,
     "metadata": {},
     "output_type": "execute_result"
    }
   ],
   "source": [
    "np.round(metrics.r2_score(pred, test_y) , 2)"
   ]
  },
  {
   "cell_type": "code",
   "execution_count": 72,
   "id": "8f4551a7",
   "metadata": {},
   "outputs": [],
   "source": [
    "#Distribution Plot"
   ]
  },
  {
   "cell_type": "code",
   "execution_count": 74,
   "id": "3e973b14",
   "metadata": {},
   "outputs": [
    {
     "name": "stderr",
     "output_type": "stream",
     "text": [
      "c:\\users\\yash\\appdata\\local\\programs\\python\\python38\\lib\\site-packages\\seaborn\\distributions.py:2619: FutureWarning: `distplot` is a deprecated function and will be removed in a future version. Please adapt your code to use either `displot` (a figure-level function with similar flexibility) or `histplot` (an axes-level function for histograms).\n",
      "  warnings.warn(msg, FutureWarning)\n"
     ]
    },
    {
     "data": {
      "text/plain": [
       "<AxesSubplot:ylabel='Density'>"
      ]
     },
     "execution_count": 74,
     "metadata": {},
     "output_type": "execute_result"
    },
    {
     "data": {
      "image/png": "[encoded data removed]",
      "text/plain": [
       "<Figure size 432x288 with 1 Axes>"
      ]
     },
     "metadata": {
      "needs_background": "light"
     },
     "output_type": "display_data"
    }
   ],
   "source": [
    "sns.distplot(test_y - pred)"
   ]
  },
  {
   "cell_type": "code",
   "execution_count": 75,
   "id": "95ceff14",
   "metadata": {},
   "outputs": [],
   "source": [
    "#actual value vs predicted value"
   ]
  },
  {
   "cell_type": "code",
   "execution_count": 76,
   "id": "79d0d4f9",
   "metadata": {},
   "outputs": [
    {
     "data": {
      "text/plain": [
       "<matplotlib.collections.PathCollection at 0x237b576e9a0>"
      ]
     },
     "execution_count": 76,
     "metadata": {},
     "output_type": "execute_result"
    },
    {
     "data": {
      "image/png": "[encoded data removed]",
      "text/plain": [
       "<Figure size 432x288 with 1 Axes>"
      ]
     },
     "metadata": {
      "needs_background": "light"
     },
     "output_type": "display_data"
    }
   ],
   "source": [
    "plt.scatter(test_y, pred)"
   ]
  },
  {
   "cell_type": "code",
   "execution_count": null,
   "id": "cfdc2492",
   "metadata": {},
   "outputs": [],
   "source": []
  }
 ],
 "metadata": {
  "kernelspec": {
   "display_name": "Python 3 (ipykernel)",
   "language": "python",
   "name": "python3"
  },
  "language_info": {
   "codemirror_mode": {
    "name": "ipython",
    "version": 3
   },
   "file_extension": ".py",
   "mimetype": "text/x-python",
   "name": "python",
   "nbconvert_exporter": "python",
   "pygments_lexer": "ipython3",
   "version": "3.8.6"
  }
 },
 "nbformat": 4,
 "nbformat_minor": 5
}
